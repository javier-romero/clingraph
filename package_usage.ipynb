{
 "cells": [
  {
   "cell_type": "markdown",
   "id": "1519d1aa-c9e7-4320-927a-9a207eb4c9f2",
   "metadata": {},
   "source": [
    "# Package Usage"
   ]
  },
  {
   "cell_type": "code",
   "execution_count": 1,
   "id": "42cb8691-2b1f-4856-97a8-cb7d582acebf",
   "metadata": {},
   "outputs": [],
   "source": [
    "from clingraph import Clingraph"
   ]
  },
  {
   "cell_type": "markdown",
   "id": "a081a67b-8f16-4a32-a5c5-88c011d5721b",
   "metadata": {},
   "source": [
    "### Create a clingraph from string"
   ]
  },
  {
   "cell_type": "code",
   "execution_count": 2,
   "id": "5a1491aa-e46f-4f45-8ce9-9d8816211ae2",
   "metadata": {},
   "outputs": [],
   "source": [
    "g = Clingraph()\n",
    "g.add_fact_string('node(oscar). node(andres). edge((oscar,andres)). attr(node,andres,label,\"Mai\").attr(edge,(oscar,andres),label,\"friends\").')\n",
    "g.compute_graphs()"
   ]
  },
  {
   "cell_type": "markdown",
   "id": "4ce31b50-6429-40ef-8f6d-909a5fbab4f3",
   "metadata": {},
   "source": [
    "##### Show facts after preprocessing"
   ]
  },
  {
   "cell_type": "code",
   "execution_count": 3,
   "id": "449c74f0-9501-4eaf-9b2e-74632609ac85",
   "metadata": {},
   "outputs": [
    {
     "name": "stdout",
     "output_type": "stream",
     "text": [
      "node(andres,default).\n",
      "node(oscar,default).\n",
      "attr(edge,(oscar,andres),(label,-1),\"friends\").\n",
      "attr(node,andres,(label,-1),\"Mai\").\n",
      "edge((oscar,andres),default).\n",
      "graph(default).\n",
      "\n"
     ]
    }
   ],
   "source": [
    "print(g.facts)"
   ]
  },
  {
   "cell_type": "markdown",
   "id": "230c0bd2-8252-4fb2-ae94-cb98d0fe0644",
   "metadata": {},
   "source": [
    "##### Show graphs in the UI"
   ]
  },
  {
   "cell_type": "code",
   "execution_count": 4,
   "id": "374a6976-e062-4c66-ba38-e5de518d5c5b",
   "metadata": {},
   "outputs": [
    {
     "data": {
      "text/plain": [
       "'default'"
      ]
     },
     "metadata": {},
     "output_type": "display_data"
    },
    {
     "data": {
      "image/png": "[encoded data removed]",
      "text/plain": [
       "<IPython.core.display.Image object>"
      ]
     },
     "metadata": {},
     "output_type": "display_data"
    }
   ],
   "source": [
    "g.show()"
   ]
  },
  {
   "cell_type": "markdown",
   "id": "c024b910-05fe-4145-b440-5f4495b2ee82",
   "metadata": {},
   "source": [
    "##### Print a clingraph source code"
   ]
  },
  {
   "cell_type": "code",
   "execution_count": 5,
   "id": "3f23995f-c921-4ed3-b29d-52831adc433e",
   "metadata": {},
   "outputs": [
    {
     "name": "stdout",
     "output_type": "stream",
     "text": [
      "//----------default----------\n",
      "graph default {\n",
      "\tandres [label=Mai]\n",
      "\toscar\n",
      "\toscar -- andres [label=friends]\n",
      "}\n",
      "\n"
     ]
    }
   ],
   "source": [
    "print(g)"
   ]
  },
  {
   "cell_type": "markdown",
   "id": "e82060a2-72c2-4bb2-b633-3f439a7315c8",
   "metadata": {},
   "source": [
    "### Create a clingraph from file"
   ]
  },
  {
   "cell_type": "code",
   "execution_count": 6,
   "id": "1c647294-5ddb-4708-80dc-8b664acb245d",
   "metadata": {},
   "outputs": [
    {
     "data": {
      "text/plain": [
       "'toms_family'"
      ]
     },
     "metadata": {},
     "output_type": "display_data"
    },
    {
     "data": {
      "image/png": "[encoded data removed]",
      "text/plain": [
       "<IPython.core.display.Image object>"
      ]
     },
     "metadata": {},
     "output_type": "display_data"
    },
    {
     "data": {
      "text/plain": [
       "'bills_family'"
      ]
     },
     "metadata": {},
     "output_type": "display_data"
    },
    {
     "data": {
      "image/png": "[encoded data removed]",
      "text/plain": [
       "<IPython.core.display.Image object>"
      ]
     },
     "metadata": {},
     "output_type": "display_data"
    }
   ],
   "source": [
    "g = Clingraph()\n",
    "g.add_fact_file(\"examples/basic/example2/example_2.lp\")\n",
    "g.compute_graphs()\n",
    "g.show()"
   ]
  },
  {
   "cell_type": "code",
   "execution_count": 7,
   "id": "745a7068-39fb-4791-9e7d-aacc326655da",
   "metadata": {},
   "outputs": [
    {
     "data": {
      "text/plain": [
       "'toms_family'"
      ]
     },
     "metadata": {},
     "output_type": "display_data"
    },
    {
     "data": {
      "image/png": "[encoded data removed]",
      "text/plain": [
       "<IPython.core.display.Image object>"
      ]
     },
     "metadata": {},
     "output_type": "display_data"
    }
   ],
   "source": [
    "g.show(selected_graphs=['toms_family'])"
   ]
  },
  {
   "cell_type": "markdown",
   "id": "bbe370e3-1c45-4ed8-b952-f600b03d7d9c",
   "metadata": {},
   "source": [
    "##### Show source code for one graph"
   ]
  },
  {
   "cell_type": "code",
   "execution_count": 8,
   "id": "0da2af0b-d9d9-4641-bd8b-e427d4dc9427",
   "metadata": {},
   "outputs": [
    {
     "name": "stdout",
     "output_type": "stream",
     "text": [
      "//----------toms_family----------\n",
      "graph toms_family {\n",
      "\ttom\n",
      "\tmax\n",
      "\ttom -- max\n",
      "}\n",
      "\n"
     ]
    }
   ],
   "source": [
    "print(g.source(selected_graphs=['toms_family']))"
   ]
  },
  {
   "cell_type": "markdown",
   "id": "c2ab6b9a-08d6-4ceb-905b-1dac4e983577",
   "metadata": {},
   "source": [
    "Directly by accessing the graphviz object"
   ]
  },
  {
   "cell_type": "code",
   "execution_count": 9,
   "id": "6222bb4d-ec17-41cc-ba0b-3cef283e4e4c",
   "metadata": {},
   "outputs": [
    {
     "name": "stdout",
     "output_type": "stream",
     "text": [
      "graph toms_family {\n",
      "\ttom\n",
      "\tmax\n",
      "\ttom -- max\n",
      "}\n",
      "\n"
     ]
    }
   ],
   "source": [
    "print(g.graphs['toms_family'].source)"
   ]
  },
  {
   "cell_type": "markdown",
   "id": "c8ae1743-88e1-42d5-9184-b9a371b02823",
   "metadata": {},
   "source": [
    "##### Save all graphs "
   ]
  },
  {
   "cell_type": "code",
   "execution_count": 10,
   "id": "203d02cf-4d73-4176-a5ef-ddde47c4f9d4",
   "metadata": {},
   "outputs": [],
   "source": [
    "g.save(directory=\"out\",format=\"pdf\")"
   ]
  },
  {
   "cell_type": "markdown",
   "id": "3e8d399e-2d78-408d-a7b0-eb5907b175ce",
   "metadata": {},
   "source": [
    "## Clingo integration"
   ]
  },
  {
   "cell_type": "markdown",
   "id": "56e87745-79a8-4964-b0f3-322a1df5cb00",
   "metadata": {},
   "source": [
    "### Create a clingraph from each model in the clingos solve"
   ]
  },
  {
   "cell_type": "code",
   "execution_count": 1,
   "id": "59425b1c-2faa-4e14-b9fc-92c763ebbbac",
   "metadata": {},
   "outputs": [],
   "source": [
    "from clingraph import MultiModelClingraph\n",
    "from clingo import Control\n",
    "from clingo.script import enable_python\n",
    "ctl = Control([\"-n2\"])\n",
    "g = MultiModelClingraph()\n",
    "ctl.load(\"./examples/elevator/encoding.lp\")\n",
    "ctl.load(\"./examples/elevator/viz.lp\")\n",
    "ctl.load(\"./examples/elevator/instance.lp\")\n",
    "ctl.ground([(\"base\", [])])\n",
    "ctl.solve(on_model=g.add_model)\n",
    "g.compute_graphs()"
   ]
  },
  {
   "cell_type": "markdown",
   "id": "13e17edb-a88f-4724-93cb-8d2ac2529396",
   "metadata": {},
   "source": [
    "#### Obtain the clingraph for the first model"
   ]
  },
  {
   "cell_type": "code",
   "execution_count": 2,
   "id": "228903d4-c15b-457a-aa80-8c7ca40ad128",
   "metadata": {},
   "outputs": [],
   "source": [
    "cl = g.get_cligraph(1)"
   ]
  },
  {
   "cell_type": "markdown",
   "id": "53809735-eb5d-4a81-a6f6-f5f4d9dc5182",
   "metadata": {},
   "source": [
    "#### Show gif for the clingraph only for the first 5 time steps"
   ]
  },
  {
   "cell_type": "code",
   "execution_count": 3,
   "id": "fe9c899e-d866-4891-87c9-673370dbd287",
   "metadata": {},
   "outputs": [
    {
     "data": {
      "image/gif": "[encoded data removed]",
      "text/plain": [
       "<IPython.core.display.Image object>"
      ]
     },
     "execution_count": 3,
     "metadata": {},
     "output_type": "execute_result"
    }
   ],
   "source": [
    "cl.show_gif(engine=\"neato\",fps=1, selected_graphs=range(0,5))"
   ]
  },
  {
   "cell_type": "markdown",
   "id": "e8802d47-7858-40b7-af68-6b63178a9fa8",
   "metadata": {},
   "source": [
    "#### Show image for the first time step"
   ]
  },
  {
   "cell_type": "code",
   "execution_count": 21,
   "id": "faebf47f-acad-4222-b303-c6f95a532065",
   "metadata": {},
   "outputs": [
    {
     "data": {
      "text/plain": [
       "'1'"
      ]
     },
     "metadata": {},
     "output_type": "display_data"
    },
    {
     "data": {
      "image/png": "[encoded data removed]",
      "text/plain": [
       "<IPython.core.display.Image object>"
      ]
     },
     "metadata": {},
     "output_type": "display_data"
    }
   ],
   "source": [
    "cl.show(selected_graphs=['1'])"
   ]
  },
  {
   "cell_type": "markdown",
   "id": "f0d046a0-0473-457c-a42a-9630e688890f",
   "metadata": {},
   "source": [
    "#### Show the source code of all the models"
   ]
  },
  {
   "cell_type": "code",
   "execution_count": 4,
   "id": "0ddd8090-e4b3-48f7-858a-108ce1cfe1e6",
   "metadata": {},
   "outputs": [
    {
     "name": "stdout",
     "output_type": "stream",
     "text": [
      "\n",
      "//=========================\n",
      "//\tModel: 1 Costs: [] \n",
      "//=========================\n",
      "\n",
      "//----------0----------\n",
      "graph 0 {\n",
      "\tgraph [bgcolor=white label=\"Time: 0\"]\n",
      "\t\"(1,0)\" [label=1 fontcolor=red hight=0.5 pos=\"0,2\" shape=none width=0.5]\n",
      "\t\"(2,0)\" [label=2 hight=0.5 pos=\"0,3\" shape=none width=0.5]\n",
      "\t\"(4,0)\" [label=4 hight=0.5 pos=\"0,5\" shape=none width=0.5]\n",
      "\t\"(5,0)\" [label=5 fontcolor=red hight=0.5 pos=\"0,6\" shape=none width=0.5]\n",
      "\t\"(3,0)\" [label=3 hight=0.5 pos=\"0,4\" shape=square width=0.5]\n",
      "\t\"(1,0)\" -- \"(2,0)\"\n",
      "\t\"(2,0)\" -- \"(3,0)\"\n",
      "\t\"(4,0)\" -- \"(5,0)\"\n",
      "\t\"(3,0)\" -- \"(4,0)\"\n",
      "}\n",
      "//----------1----------\n",
      "graph 1 {\n",
      "\tgraph [bgcolor=white label=\"Time: 1\"]\n",
      "\t\"(1,1)\" [label=1 fontcolor=red hight=0.5 pos=\"0,2\" shape=none width=0.5]\n",
      "\t\"(4,1)\" [label=4 hight=0.5 pos=\"0,5\" shape=none width=0.5]\n",
      "\t\"(2,1)\" [label=2 hight=0.5 pos=\"0,3\" shape=square width=0.5]\n",
      "\t\"(5,1)\" [label=5 fontcolor=red hight=0.5 pos=\"0,6\" shape=none width=0.5]\n",
      "\t\"(3,1)\" [label=3 hight=0.5 pos=\"0,4\" shape=none width=0.5]\n",
      "\t\"(1,1)\" -- \"(2,1)\"\n",
      "\t\"(4,1)\" -- \"(5,1)\"\n",
      "\t\"(3,1)\" -- \"(4,1)\"\n",
      "\t\"(2,1)\" -- \"(3,1)\"\n",
      "}\n",
      "//----------2----------\n",
      "graph 2 {\n",
      "\tgraph [bgcolor=white label=\"Time: 2\"]\n",
      "\t\"(1,2)\" [label=1 color=green fontcolor=red hight=0.5 pos=\"0,2\" shape=square width=0.5]\n",
      "\t\"(2,2)\" [label=2 hight=0.5 pos=\"0,3\" shape=none width=0.5]\n",
      "\t\"(3,2)\" [label=3 hight=0.5 pos=\"0,4\" shape=none width=0.5]\n",
      "\t\"(5,2)\" [label=5 fontcolor=red hight=0.5 pos=\"0,6\" shape=none width=0.5]\n",
      "\t\"(4,2)\" [label=4 hight=0.5 pos=\"0,5\" shape=none width=0.5]\n",
      "\t\"(1,2)\" -- \"(2,2)\"\n",
      "\t\"(4,2)\" -- \"(5,2)\"\n",
      "\t\"(2,2)\" -- \"(3,2)\"\n",
      "\t\"(3,2)\" -- \"(4,2)\"\n",
      "}\n",
      "//----------3----------\n",
      "graph 3 {\n",
      "\tgraph [bgcolor=white label=\"Time: 3\"]\n",
      "\t\"(1,3)\" [label=1 hight=0.5 pos=\"0,2\" shape=square width=0.5]\n",
      "\t\"(5,3)\" [label=5 fontcolor=red hight=0.5 pos=\"0,6\" shape=none width=0.5]\n",
      "\t\"(4,3)\" [label=4 hight=0.5 pos=\"0,5\" shape=none width=0.5]\n",
      "\t\"(3,3)\" [label=3 hight=0.5 pos=\"0,4\" shape=none width=0.5]\n",
      "\t\"(2,3)\" [label=2 hight=0.5 pos=\"0,3\" shape=none width=0.5]\n",
      "\t\"(1,3)\" -- \"(2,3)\"\n",
      "\t\"(2,3)\" -- \"(3,3)\"\n",
      "\t\"(4,3)\" -- \"(5,3)\"\n",
      "\t\"(3,3)\" -- \"(4,3)\"\n",
      "}\n",
      "//----------4----------\n",
      "graph 4 {\n",
      "\tgraph [bgcolor=white label=\"Time: 4\"]\n",
      "\t\"(1,4)\" [label=1 hight=0.5 pos=\"0,2\" shape=none width=0.5]\n",
      "\t\"(4,4)\" [label=4 hight=0.5 pos=\"0,5\" shape=none width=0.5]\n",
      "\t\"(5,4)\" [label=5 fontcolor=red hight=0.5 pos=\"0,6\" shape=none width=0.5]\n",
      "\t\"(3,4)\" [label=3 hight=0.5 pos=\"0,4\" shape=none width=0.5]\n",
      "\t\"(2,4)\" [label=2 hight=0.5 pos=\"0,3\" shape=square width=0.5]\n",
      "\t\"(1,4)\" -- \"(2,4)\"\n",
      "\t\"(3,4)\" -- \"(4,4)\"\n",
      "\t\"(2,4)\" -- \"(3,4)\"\n",
      "\t\"(4,4)\" -- \"(5,4)\"\n",
      "}\n",
      "//----------5----------\n",
      "graph 5 {\n",
      "\tgraph [bgcolor=white label=\"Time: 5\"]\n",
      "\t\"(1,5)\" [label=1 hight=0.5 pos=\"0,2\" shape=none width=0.5]\n",
      "\t\"(5,5)\" [label=5 fontcolor=red hight=0.5 pos=\"0,6\" shape=none width=0.5]\n",
      "\t\"(2,5)\" [label=2 hight=0.5 pos=\"0,3\" shape=square width=0.5]\n",
      "\t\"(3,5)\" [label=3 hight=0.5 pos=\"0,4\" shape=none width=0.5]\n",
      "\t\"(4,5)\" [label=4 hight=0.5 pos=\"0,5\" shape=none width=0.5]\n",
      "\t\"(1,5)\" -- \"(2,5)\"\n",
      "\t\"(2,5)\" -- \"(3,5)\"\n",
      "\t\"(3,5)\" -- \"(4,5)\"\n",
      "\t\"(4,5)\" -- \"(5,5)\"\n",
      "}\n",
      "//----------6----------\n",
      "graph 6 {\n",
      "\tgraph [bgcolor=white label=\"Time: 6\"]\n",
      "\t\"(1,6)\" [label=1 hight=0.5 pos=\"0,2\" shape=none width=0.5]\n",
      "\t\"(2,6)\" [label=2 hight=0.5 pos=\"0,3\" shape=square width=0.5]\n",
      "\t\"(3,6)\" [label=3 hight=0.5 pos=\"0,4\" shape=none width=0.5]\n",
      "\t\"(5,6)\" [label=5 fontcolor=red hight=0.5 pos=\"0,6\" shape=none width=0.5]\n",
      "\t\"(4,6)\" [label=4 hight=0.5 pos=\"0,5\" shape=none width=0.5]\n",
      "\t\"(1,6)\" -- \"(2,6)\"\n",
      "\t\"(3,6)\" -- \"(4,6)\"\n",
      "\t\"(4,6)\" -- \"(5,6)\"\n",
      "\t\"(2,6)\" -- \"(3,6)\"\n",
      "}\n",
      "//----------7----------\n",
      "graph 7 {\n",
      "\tgraph [bgcolor=white label=\"Time: 7\"]\n",
      "\t\"(1,7)\" [label=1 hight=0.5 pos=\"0,2\" shape=none width=0.5]\n",
      "\t\"(5,7)\" [label=5 fontcolor=red hight=0.5 pos=\"0,6\" shape=none width=0.5]\n",
      "\t\"(3,7)\" [label=3 hight=0.5 pos=\"0,4\" shape=square width=0.5]\n",
      "\t\"(4,7)\" [label=4 hight=0.5 pos=\"0,5\" shape=none width=0.5]\n",
      "\t\"(2,7)\" [label=2 hight=0.5 pos=\"0,3\" shape=none width=0.5]\n",
      "\t\"(1,7)\" -- \"(2,7)\"\n",
      "\t\"(4,7)\" -- \"(5,7)\"\n",
      "\t\"(3,7)\" -- \"(4,7)\"\n",
      "\t\"(2,7)\" -- \"(3,7)\"\n",
      "}\n",
      "//----------8----------\n",
      "graph 8 {\n",
      "\tgraph [bgcolor=white label=\"Time: 8\"]\n",
      "\t\"(1,8)\" [label=1 hight=0.5 pos=\"0,2\" shape=none width=0.5]\n",
      "\t\"(2,8)\" [label=2 hight=0.5 pos=\"0,3\" shape=none width=0.5]\n",
      "\t\"(3,8)\" [label=3 hight=0.5 pos=\"0,4\" shape=none width=0.5]\n",
      "\t\"(4,8)\" [label=4 hight=0.5 pos=\"0,5\" shape=square width=0.5]\n",
      "\t\"(5,8)\" [label=5 fontcolor=red hight=0.5 pos=\"0,6\" shape=none width=0.5]\n",
      "\t\"(1,8)\" -- \"(2,8)\"\n",
      "\t\"(2,8)\" -- \"(3,8)\"\n",
      "\t\"(4,8)\" -- \"(5,8)\"\n",
      "\t\"(3,8)\" -- \"(4,8)\"\n",
      "}\n",
      "//----------9----------\n",
      "graph 9 {\n",
      "\tgraph [bgcolor=white label=\"Time: 9\"]\n",
      "\t\"(1,9)\" [label=1 hight=0.5 pos=\"0,2\" shape=none width=0.5]\n",
      "\t\"(2,9)\" [label=2 hight=0.5 pos=\"0,3\" shape=none width=0.5]\n",
      "\t\"(4,9)\" [label=4 hight=0.5 pos=\"0,5\" shape=square width=0.5]\n",
      "\t\"(5,9)\" [label=5 fontcolor=red hight=0.5 pos=\"0,6\" shape=none width=0.5]\n",
      "\t\"(3,9)\" [label=3 hight=0.5 pos=\"0,4\" shape=none width=0.5]\n",
      "\t\"(1,9)\" -- \"(2,9)\"\n",
      "\t\"(3,9)\" -- \"(4,9)\"\n",
      "\t\"(4,9)\" -- \"(5,9)\"\n",
      "\t\"(2,9)\" -- \"(3,9)\"\n",
      "}\n",
      "//----------10----------\n",
      "graph 10 {\n",
      "\tgraph [bgcolor=white label=\"Time: 10\"]\n",
      "\t\"(1,10)\" [label=1 hight=0.5 pos=\"0,2\" shape=none width=0.5]\n",
      "\t\"(4,10)\" [label=4 hight=0.5 pos=\"0,5\" shape=square width=0.5]\n",
      "\t\"(5,10)\" [label=5 fontcolor=red hight=0.5 pos=\"0,6\" shape=none width=0.5]\n",
      "\t\"(2,10)\" [label=2 hight=0.5 pos=\"0,3\" shape=none width=0.5]\n",
      "\t\"(3,10)\" [label=3 hight=0.5 pos=\"0,4\" shape=none width=0.5]\n",
      "\t\"(1,10)\" -- \"(2,10)\"\n",
      "\t\"(4,10)\" -- \"(5,10)\"\n",
      "\t\"(2,10)\" -- \"(3,10)\"\n",
      "\t\"(3,10)\" -- \"(4,10)\"\n",
      "}\n",
      "//----------11----------\n",
      "graph 11 {\n",
      "\tgraph [bgcolor=white label=\"Time: 11\"]\n",
      "\t\"(1,11)\" [label=1 hight=0.5 pos=\"0,2\" shape=none width=0.5]\n",
      "\t\"(3,11)\" [label=3 hight=0.5 pos=\"0,4\" shape=none width=0.5]\n",
      "\t\"(5,11)\" [label=5 fontcolor=red hight=0.5 pos=\"0,6\" shape=none width=0.5]\n",
      "\t\"(2,11)\" [label=2 hight=0.5 pos=\"0,3\" shape=none width=0.5]\n",
      "\t\"(4,11)\" [label=4 hight=0.5 pos=\"0,5\" shape=square width=0.5]\n",
      "\t\"(1,11)\" -- \"(2,11)\"\n",
      "\t\"(4,11)\" -- \"(5,11)\"\n",
      "\t\"(2,11)\" -- \"(3,11)\"\n",
      "\t\"(3,11)\" -- \"(4,11)\"\n",
      "}\n",
      "//----------12----------\n",
      "graph 12 {\n",
      "\tgraph [bgcolor=white label=\"Time: 12\"]\n",
      "\t\"(1,12)\" [label=1 hight=0.5 pos=\"0,2\" shape=none width=0.5]\n",
      "\t\"(4,12)\" [label=4 hight=0.5 pos=\"0,5\" shape=square width=0.5]\n",
      "\t\"(3,12)\" [label=3 hight=0.5 pos=\"0,4\" shape=none width=0.5]\n",
      "\t\"(2,12)\" [label=2 hight=0.5 pos=\"0,3\" shape=none width=0.5]\n",
      "\t\"(5,12)\" [label=5 fontcolor=red hight=0.5 pos=\"0,6\" shape=none width=0.5]\n",
      "\t\"(1,12)\" -- \"(2,12)\"\n",
      "\t\"(2,12)\" -- \"(3,12)\"\n",
      "\t\"(3,12)\" -- \"(4,12)\"\n",
      "\t\"(4,12)\" -- \"(5,12)\"\n",
      "}\n",
      "//----------13----------\n",
      "graph 13 {\n",
      "\tgraph [bgcolor=white label=\"Time: 13\"]\n",
      "\t\"(1,13)\" [label=1 hight=0.5 pos=\"0,2\" shape=none width=0.5]\n",
      "\t\"(5,13)\" [label=5 fontcolor=red hight=0.5 pos=\"0,6\" shape=none width=0.5]\n",
      "\t\"(3,13)\" [label=3 hight=0.5 pos=\"0,4\" shape=none width=0.5]\n",
      "\t\"(4,13)\" [label=4 hight=0.5 pos=\"0,5\" shape=square width=0.5]\n",
      "\t\"(2,13)\" [label=2 hight=0.5 pos=\"0,3\" shape=none width=0.5]\n",
      "\t\"(1,13)\" -- \"(2,13)\"\n",
      "\t\"(2,13)\" -- \"(3,13)\"\n",
      "\t\"(3,13)\" -- \"(4,13)\"\n",
      "\t\"(4,13)\" -- \"(5,13)\"\n",
      "}\n",
      "//----------14----------\n",
      "graph 14 {\n",
      "\tgraph [bgcolor=white label=\"Time: 14\"]\n",
      "\t\"(1,14)\" [label=1 hight=0.5 pos=\"0,2\" shape=none width=0.5]\n",
      "\t\"(4,14)\" [label=4 hight=0.5 pos=\"0,5\" shape=none width=0.5]\n",
      "\t\"(5,14)\" [label=5 color=green fontcolor=red hight=0.5 pos=\"0,6\" shape=square width=0.5]\n",
      "\t\"(3,14)\" [label=3 hight=0.5 pos=\"0,4\" shape=none width=0.5]\n",
      "\t\"(2,14)\" [label=2 hight=0.5 pos=\"0,3\" shape=none width=0.5]\n",
      "\t\"(1,14)\" -- \"(2,14)\"\n",
      "\t\"(3,14)\" -- \"(4,14)\"\n",
      "\t\"(4,14)\" -- \"(5,14)\"\n",
      "\t\"(2,14)\" -- \"(3,14)\"\n",
      "}\n",
      "//----------15----------\n",
      "graph 15 {\n",
      "\tgraph [bgcolor=white label=\"Time: 15\"]\n",
      "\t\"(1,15)\" [label=1 hight=0.5 pos=\"0,2\" shape=none width=0.5]\n",
      "\t\"(2,15)\" [label=2 hight=0.5 pos=\"0,3\" shape=none width=0.5]\n",
      "\t\"(3,15)\" [label=3 hight=0.5 pos=\"0,4\" shape=none width=0.5]\n",
      "\t\"(4,15)\" [label=4 hight=0.5 pos=\"0,5\" shape=none width=0.5]\n",
      "\t\"(5,15)\" [label=5 hight=0.5 pos=\"0,6\" shape=square width=0.5]\n",
      "\t\"(1,15)\" -- \"(2,15)\"\n",
      "\t\"(2,15)\" -- \"(3,15)\"\n",
      "\t\"(3,15)\" -- \"(4,15)\"\n",
      "\t\"(4,15)\" -- \"(5,15)\"\n",
      "}\n",
      "\n",
      "//=========================\n",
      "//\tModel: 2 Costs: [] \n",
      "//=========================\n",
      "\n",
      "//----------0----------\n",
      "graph 0 {\n",
      "\tgraph [bgcolor=white label=\"Time: 0\"]\n",
      "\t\"(1,0)\" [label=1 fontcolor=red hight=0.5 pos=\"0,2\" shape=none width=0.5]\n",
      "\t\"(2,0)\" [label=2 hight=0.5 pos=\"0,3\" shape=none width=0.5]\n",
      "\t\"(4,0)\" [label=4 hight=0.5 pos=\"0,5\" shape=none width=0.5]\n",
      "\t\"(5,0)\" [label=5 fontcolor=red hight=0.5 pos=\"0,6\" shape=none width=0.5]\n",
      "\t\"(3,0)\" [label=3 hight=0.5 pos=\"0,4\" shape=square width=0.5]\n",
      "\t\"(1,0)\" -- \"(2,0)\"\n",
      "\t\"(2,0)\" -- \"(3,0)\"\n",
      "\t\"(4,0)\" -- \"(5,0)\"\n",
      "\t\"(3,0)\" -- \"(4,0)\"\n",
      "}\n",
      "//----------1----------\n",
      "graph 1 {\n",
      "\tgraph [bgcolor=white label=\"Time: 1\"]\n",
      "\t\"(1,1)\" [label=1 fontcolor=red hight=0.5 pos=\"0,2\" shape=none width=0.5]\n",
      "\t\"(4,1)\" [label=4 hight=0.5 pos=\"0,5\" shape=none width=0.5]\n",
      "\t\"(2,1)\" [label=2 hight=0.5 pos=\"0,3\" shape=square width=0.5]\n",
      "\t\"(5,1)\" [label=5 fontcolor=red hight=0.5 pos=\"0,6\" shape=none width=0.5]\n",
      "\t\"(3,1)\" [label=3 hight=0.5 pos=\"0,4\" shape=none width=0.5]\n",
      "\t\"(1,1)\" -- \"(2,1)\"\n",
      "\t\"(4,1)\" -- \"(5,1)\"\n",
      "\t\"(3,1)\" -- \"(4,1)\"\n",
      "\t\"(2,1)\" -- \"(3,1)\"\n",
      "}\n",
      "//----------2----------\n",
      "graph 2 {\n",
      "\tgraph [bgcolor=white label=\"Time: 2\"]\n",
      "\t\"(1,2)\" [label=1 color=green fontcolor=red hight=0.5 pos=\"0,2\" shape=square width=0.5]\n",
      "\t\"(2,2)\" [label=2 hight=0.5 pos=\"0,3\" shape=none width=0.5]\n",
      "\t\"(3,2)\" [label=3 hight=0.5 pos=\"0,4\" shape=none width=0.5]\n",
      "\t\"(5,2)\" [label=5 fontcolor=red hight=0.5 pos=\"0,6\" shape=none width=0.5]\n",
      "\t\"(4,2)\" [label=4 hight=0.5 pos=\"0,5\" shape=none width=0.5]\n",
      "\t\"(1,2)\" -- \"(2,2)\"\n",
      "\t\"(4,2)\" -- \"(5,2)\"\n",
      "\t\"(2,2)\" -- \"(3,2)\"\n",
      "\t\"(3,2)\" -- \"(4,2)\"\n",
      "}\n",
      "//----------3----------\n",
      "graph 3 {\n",
      "\tgraph [bgcolor=white label=\"Time: 3\"]\n",
      "\t\"(1,3)\" [label=1 hight=0.5 pos=\"0,2\" shape=square width=0.5]\n",
      "\t\"(5,3)\" [label=5 fontcolor=red hight=0.5 pos=\"0,6\" shape=none width=0.5]\n",
      "\t\"(4,3)\" [label=4 hight=0.5 pos=\"0,5\" shape=none width=0.5]\n",
      "\t\"(3,3)\" [label=3 hight=0.5 pos=\"0,4\" shape=none width=0.5]\n",
      "\t\"(2,3)\" [label=2 hight=0.5 pos=\"0,3\" shape=none width=0.5]\n",
      "\t\"(1,3)\" -- \"(2,3)\"\n",
      "\t\"(2,3)\" -- \"(3,3)\"\n",
      "\t\"(4,3)\" -- \"(5,3)\"\n",
      "\t\"(3,3)\" -- \"(4,3)\"\n",
      "}\n",
      "//----------4----------\n",
      "graph 4 {\n",
      "\tgraph [bgcolor=white label=\"Time: 4\"]\n",
      "\t\"(1,4)\" [label=1 hight=0.5 pos=\"0,2\" shape=none width=0.5]\n",
      "\t\"(4,4)\" [label=4 hight=0.5 pos=\"0,5\" shape=none width=0.5]\n",
      "\t\"(5,4)\" [label=5 fontcolor=red hight=0.5 pos=\"0,6\" shape=none width=0.5]\n",
      "\t\"(3,4)\" [label=3 hight=0.5 pos=\"0,4\" shape=none width=0.5]\n",
      "\t\"(2,4)\" [label=2 hight=0.5 pos=\"0,3\" shape=square width=0.5]\n",
      "\t\"(1,4)\" -- \"(2,4)\"\n",
      "\t\"(3,4)\" -- \"(4,4)\"\n",
      "\t\"(2,4)\" -- \"(3,4)\"\n",
      "\t\"(4,4)\" -- \"(5,4)\"\n",
      "}\n",
      "//----------5----------\n",
      "graph 5 {\n",
      "\tgraph [bgcolor=white label=\"Time: 5\"]\n",
      "\t\"(1,5)\" [label=1 hight=0.5 pos=\"0,2\" shape=none width=0.5]\n",
      "\t\"(5,5)\" [label=5 fontcolor=red hight=0.5 pos=\"0,6\" shape=none width=0.5]\n",
      "\t\"(2,5)\" [label=2 hight=0.5 pos=\"0,3\" shape=square width=0.5]\n",
      "\t\"(3,5)\" [label=3 hight=0.5 pos=\"0,4\" shape=none width=0.5]\n",
      "\t\"(4,5)\" [label=4 hight=0.5 pos=\"0,5\" shape=none width=0.5]\n",
      "\t\"(1,5)\" -- \"(2,5)\"\n",
      "\t\"(2,5)\" -- \"(3,5)\"\n",
      "\t\"(3,5)\" -- \"(4,5)\"\n",
      "\t\"(4,5)\" -- \"(5,5)\"\n",
      "}\n",
      "//----------6----------\n",
      "graph 6 {\n",
      "\tgraph [bgcolor=white label=\"Time: 6\"]\n",
      "\t\"(1,6)\" [label=1 hight=0.5 pos=\"0,2\" shape=none width=0.5]\n",
      "\t\"(2,6)\" [label=2 hight=0.5 pos=\"0,3\" shape=square width=0.5]\n",
      "\t\"(3,6)\" [label=3 hight=0.5 pos=\"0,4\" shape=none width=0.5]\n",
      "\t\"(5,6)\" [label=5 fontcolor=red hight=0.5 pos=\"0,6\" shape=none width=0.5]\n",
      "\t\"(4,6)\" [label=4 hight=0.5 pos=\"0,5\" shape=none width=0.5]\n",
      "\t\"(1,6)\" -- \"(2,6)\"\n",
      "\t\"(3,6)\" -- \"(4,6)\"\n",
      "\t\"(4,6)\" -- \"(5,6)\"\n",
      "\t\"(2,6)\" -- \"(3,6)\"\n",
      "}\n",
      "//----------7----------\n",
      "graph 7 {\n",
      "\tgraph [bgcolor=white label=\"Time: 7\"]\n",
      "\t\"(1,7)\" [label=1 hight=0.5 pos=\"0,2\" shape=none width=0.5]\n",
      "\t\"(5,7)\" [label=5 fontcolor=red hight=0.5 pos=\"0,6\" shape=none width=0.5]\n",
      "\t\"(3,7)\" [label=3 hight=0.5 pos=\"0,4\" shape=square width=0.5]\n",
      "\t\"(4,7)\" [label=4 hight=0.5 pos=\"0,5\" shape=none width=0.5]\n",
      "\t\"(2,7)\" [label=2 hight=0.5 pos=\"0,3\" shape=none width=0.5]\n",
      "\t\"(1,7)\" -- \"(2,7)\"\n",
      "\t\"(4,7)\" -- \"(5,7)\"\n",
      "\t\"(3,7)\" -- \"(4,7)\"\n",
      "\t\"(2,7)\" -- \"(3,7)\"\n",
      "}\n",
      "//----------8----------\n",
      "graph 8 {\n",
      "\tgraph [bgcolor=white label=\"Time: 8\"]\n",
      "\t\"(1,8)\" [label=1 hight=0.5 pos=\"0,2\" shape=none width=0.5]\n",
      "\t\"(2,8)\" [label=2 hight=0.5 pos=\"0,3\" shape=none width=0.5]\n",
      "\t\"(3,8)\" [label=3 hight=0.5 pos=\"0,4\" shape=none width=0.5]\n",
      "\t\"(4,8)\" [label=4 hight=0.5 pos=\"0,5\" shape=square width=0.5]\n",
      "\t\"(5,8)\" [label=5 fontcolor=red hight=0.5 pos=\"0,6\" shape=none width=0.5]\n",
      "\t\"(1,8)\" -- \"(2,8)\"\n",
      "\t\"(2,8)\" -- \"(3,8)\"\n",
      "\t\"(4,8)\" -- \"(5,8)\"\n",
      "\t\"(3,8)\" -- \"(4,8)\"\n",
      "}\n",
      "//----------9----------\n",
      "graph 9 {\n",
      "\tgraph [bgcolor=white label=\"Time: 9\"]\n",
      "\t\"(1,9)\" [label=1 hight=0.5 pos=\"0,2\" shape=none width=0.5]\n",
      "\t\"(2,9)\" [label=2 hight=0.5 pos=\"0,3\" shape=none width=0.5]\n",
      "\t\"(4,9)\" [label=4 hight=0.5 pos=\"0,5\" shape=square width=0.5]\n",
      "\t\"(5,9)\" [label=5 fontcolor=red hight=0.5 pos=\"0,6\" shape=none width=0.5]\n",
      "\t\"(3,9)\" [label=3 hight=0.5 pos=\"0,4\" shape=none width=0.5]\n",
      "\t\"(1,9)\" -- \"(2,9)\"\n",
      "\t\"(3,9)\" -- \"(4,9)\"\n",
      "\t\"(4,9)\" -- \"(5,9)\"\n",
      "\t\"(2,9)\" -- \"(3,9)\"\n",
      "}\n",
      "//----------10----------\n",
      "graph 10 {\n",
      "\tgraph [bgcolor=white label=\"Time: 10\"]\n",
      "\t\"(1,10)\" [label=1 hight=0.5 pos=\"0,2\" shape=none width=0.5]\n",
      "\t\"(4,10)\" [label=4 hight=0.5 pos=\"0,5\" shape=square width=0.5]\n",
      "\t\"(5,10)\" [label=5 fontcolor=red hight=0.5 pos=\"0,6\" shape=none width=0.5]\n",
      "\t\"(2,10)\" [label=2 hight=0.5 pos=\"0,3\" shape=none width=0.5]\n",
      "\t\"(3,10)\" [label=3 hight=0.5 pos=\"0,4\" shape=none width=0.5]\n",
      "\t\"(1,10)\" -- \"(2,10)\"\n",
      "\t\"(4,10)\" -- \"(5,10)\"\n",
      "\t\"(2,10)\" -- \"(3,10)\"\n",
      "\t\"(3,10)\" -- \"(4,10)\"\n",
      "}\n",
      "//----------11----------\n",
      "graph 11 {\n",
      "\tgraph [bgcolor=white label=\"Time: 11\"]\n",
      "\t\"(1,11)\" [label=1 hight=0.5 pos=\"0,2\" shape=none width=0.5]\n",
      "\t\"(3,11)\" [label=3 hight=0.5 pos=\"0,4\" shape=none width=0.5]\n",
      "\t\"(5,11)\" [label=5 fontcolor=red hight=0.5 pos=\"0,6\" shape=none width=0.5]\n",
      "\t\"(2,11)\" [label=2 hight=0.5 pos=\"0,3\" shape=none width=0.5]\n",
      "\t\"(4,11)\" [label=4 hight=0.5 pos=\"0,5\" shape=square width=0.5]\n",
      "\t\"(1,11)\" -- \"(2,11)\"\n",
      "\t\"(4,11)\" -- \"(5,11)\"\n",
      "\t\"(2,11)\" -- \"(3,11)\"\n",
      "\t\"(3,11)\" -- \"(4,11)\"\n",
      "}\n",
      "//----------12----------\n",
      "graph 12 {\n",
      "\tgraph [bgcolor=white label=\"Time: 12\"]\n",
      "\t\"(1,12)\" [label=1 hight=0.5 pos=\"0,2\" shape=none width=0.5]\n",
      "\t\"(4,12)\" [label=4 color=green hight=0.5 pos=\"0,5\" shape=square width=0.5]\n",
      "\t\"(3,12)\" [label=3 hight=0.5 pos=\"0,4\" shape=none width=0.5]\n",
      "\t\"(2,12)\" [label=2 hight=0.5 pos=\"0,3\" shape=none width=0.5]\n",
      "\t\"(5,12)\" [label=5 fontcolor=red hight=0.5 pos=\"0,6\" shape=none width=0.5]\n",
      "\t\"(1,12)\" -- \"(2,12)\"\n",
      "\t\"(2,12)\" -- \"(3,12)\"\n",
      "\t\"(3,12)\" -- \"(4,12)\"\n",
      "\t\"(4,12)\" -- \"(5,12)\"\n",
      "}\n",
      "//----------13----------\n",
      "graph 13 {\n",
      "\tgraph [bgcolor=white label=\"Time: 13\"]\n",
      "\t\"(1,13)\" [label=1 hight=0.5 pos=\"0,2\" shape=none width=0.5]\n",
      "\t\"(5,13)\" [label=5 fontcolor=red hight=0.5 pos=\"0,6\" shape=none width=0.5]\n",
      "\t\"(3,13)\" [label=3 hight=0.5 pos=\"0,4\" shape=none width=0.5]\n",
      "\t\"(4,13)\" [label=4 hight=0.5 pos=\"0,5\" shape=square width=0.5]\n",
      "\t\"(2,13)\" [label=2 hight=0.5 pos=\"0,3\" shape=none width=0.5]\n",
      "\t\"(1,13)\" -- \"(2,13)\"\n",
      "\t\"(2,13)\" -- \"(3,13)\"\n",
      "\t\"(3,13)\" -- \"(4,13)\"\n",
      "\t\"(4,13)\" -- \"(5,13)\"\n",
      "}\n",
      "//----------14----------\n",
      "graph 14 {\n",
      "\tgraph [bgcolor=white label=\"Time: 14\"]\n",
      "\t\"(1,14)\" [label=1 hight=0.5 pos=\"0,2\" shape=none width=0.5]\n",
      "\t\"(4,14)\" [label=4 hight=0.5 pos=\"0,5\" shape=none width=0.5]\n",
      "\t\"(5,14)\" [label=5 color=green fontcolor=red hight=0.5 pos=\"0,6\" shape=square width=0.5]\n",
      "\t\"(3,14)\" [label=3 hight=0.5 pos=\"0,4\" shape=none width=0.5]\n",
      "\t\"(2,14)\" [label=2 hight=0.5 pos=\"0,3\" shape=none width=0.5]\n",
      "\t\"(1,14)\" -- \"(2,14)\"\n",
      "\t\"(3,14)\" -- \"(4,14)\"\n",
      "\t\"(4,14)\" -- \"(5,14)\"\n",
      "\t\"(2,14)\" -- \"(3,14)\"\n",
      "}\n",
      "//----------15----------\n",
      "graph 15 {\n",
      "\tgraph [bgcolor=white label=\"Time: 15\"]\n",
      "\t\"(1,15)\" [label=1 hight=0.5 pos=\"0,2\" shape=none width=0.5]\n",
      "\t\"(2,15)\" [label=2 hight=0.5 pos=\"0,3\" shape=none width=0.5]\n",
      "\t\"(3,15)\" [label=3 hight=0.5 pos=\"0,4\" shape=none width=0.5]\n",
      "\t\"(4,15)\" [label=4 hight=0.5 pos=\"0,5\" shape=none width=0.5]\n",
      "\t\"(5,15)\" [label=5 hight=0.5 pos=\"0,6\" shape=square width=0.5]\n",
      "\t\"(1,15)\" -- \"(2,15)\"\n",
      "\t\"(2,15)\" -- \"(3,15)\"\n",
      "\t\"(3,15)\" -- \"(4,15)\"\n",
      "\t\"(4,15)\" -- \"(5,15)\"\n",
      "}\n",
      "\n"
     ]
    }
   ],
   "source": [
    "print(g)"
   ]
  },
  {
   "cell_type": "code",
   "execution_count": null,
   "id": "57f08205-62ba-41d6-bf6e-f1b8ab67a09e",
   "metadata": {},
   "outputs": [],
   "source": []
  }
 ],
 "metadata": {
  "kernelspec": {
   "display_name": "Python 3 (ipykernel)",
   "language": "python",
   "name": "python3"
  },
  "language_info": {
   "codemirror_mode": {
    "name": "ipython",
    "version": 3
   },
   "file_extension": ".py",
   "mimetype": "text/x-python",
   "name": "python",
   "nbconvert_exporter": "python",
   "pygments_lexer": "ipython3",
   "version": "3.9.7"
  }
 },
 "nbformat": 4,
 "nbformat_minor": 5
}
